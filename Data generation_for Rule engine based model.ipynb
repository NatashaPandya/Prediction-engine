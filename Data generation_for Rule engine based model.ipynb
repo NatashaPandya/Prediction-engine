{
 "cells": [
  {
   "cell_type": "code",
   "execution_count": 91,
   "metadata": {},
   "outputs": [],
   "source": [
    "from IPython.core.interactiveshell import InteractiveShell\n",
    "InteractiveShell.ast_node_interactivity = \"all\"\n",
    "import os\n",
    "import numpy as np\n",
    "import pandas as pd\n",
    "import warnings\n",
    "warnings.filterwarnings('ignore')   \n",
    "result = pd.read_excel(\"Test_results_for_POC_21092018.xlsx\",parse_dates=[['Rn Execution Date', 'Rn Execution Time']])\n",
    "result = result.rename(columns={'Rn Execution Date_Rn Execution Time':'date'})\n",
    "defect = pd.read_excel(\"Defect_results_for_POC_21092018.xlsx\")\n",
    "test = pd.read_excel(\"Testcases_CTC_MS_for_POC_27092018.xlsx\")\n",
    "result.columns = result.columns.str.replace(' ', '_')\n",
    "defect.columns = defect.columns.str.replace(' ', '_')\n",
    "test.columns = test.columns.str.replace(' ', '_')"
   ]
  },
  {
   "cell_type": "markdown",
   "metadata": {},
   "source": [
    "### Merge from test result and CTC"
   ]
  },
  {
   "cell_type": "code",
   "execution_count": 45,
   "metadata": {},
   "outputs": [],
   "source": [
    "def add_soft_ver_count_column(result) :\n",
    "    '''adds count column in test result dataframe and returns dataframe.'''\n",
    "    group = result.groupby(['Ts_User_08_(Test_ID)', 'Cy_Terminal_SW_Version'])\n",
    "    df1 = group.Ts_Name.agg('count').reset_index()\n",
    "    df1 = df1.rename(columns={'Ts_Name':'soft_ver_count'})\n",
    "    result = pd.merge(result,df1,how='outer',on=['Ts_User_08_(Test_ID)','Cy_Terminal_SW_Version'])\n",
    "    return result\n",
    "result = add_soft_ver_count_column(result)\n",
    "#result.to_excel('df1.xlsx',index=False)"
   ]
  },
  {
   "cell_type": "code",
   "execution_count": 46,
   "metadata": {},
   "outputs": [],
   "source": [
    "def count_pass_fail_ratio(master) :\n",
    "    master = master.rename(columns={'Ts_User_08_(Test_ID)': 'test_id'})\n",
    "    p4 = master.groupby(['test_id','Rn_Status'])\n",
    "    df = p4.Ts_Name.agg('count').reset_index()\n",
    "    df = df.rename(columns={'Ts_Name': 'count'})\n",
    "    df = df[df['count'] > 0]\n",
    "    pass_df = df[df['Rn_Status'] == 'Passed']\n",
    "    fail_df = df[df['Rn_Status'] == 'Failed']\n",
    "    df4 = pd.merge(pass_df,fail_df,how='outer',on=['test_id'])\n",
    "    df4 = df4.rename(columns={'count_x': 'pass_count','count_y':'fail_count'})\n",
    "    df4['pass_count'].fillna(0,inplace=True)\n",
    "    df4['fail_count'].fillna(0,inplace=True)\n",
    "    df4['pass_ratio'] = df4['pass_count']/(df4['pass_count']+ df4['fail_count'])\n",
    "    df4['fail_ratio'] = 1 - df4['pass_ratio']\n",
    "    df4.drop(labels=['Rn_Status_x', 'Rn_Status_y'], axis=1,inplace=True)\n",
    "    master = pd.merge(master,df4,how='left',on=['test_id'])\n",
    "    master = master.rename(columns={'test_id':'Ts_User_08_(Test_ID)'})\n",
    "    return master\n",
    "result = count_pass_fail_ratio(result)"
   ]
  },
  {
   "cell_type": "code",
   "execution_count": 48,
   "metadata": {},
   "outputs": [],
   "source": [
    "# if ran two times it will throw error.find out why ?\n",
    "def add_defect_count(df) :\n",
    "    '''input defect sheet.output adds a column to defect sheet.returns defect sheet with added column.'''\n",
    "    group = df.groupby(['Linked_Test_ID'])\n",
    "    df1 = group.Defect_ID.agg('count').reset_index()\n",
    "    df1 = df1.rename(columns={'Defect_ID':'total_defect_count'})\n",
    "    df = pd.merge(df,df1,how='outer',on=['Linked_Test_ID'])\n",
    "    df['total_defect_count'].fillna(0,inplace=True)\n",
    "    return df\n",
    "defect = add_defect_count(defect)\n",
    "#defect.to_excel('df.xlsx',index=False)"
   ]
  },
  {
   "cell_type": "code",
   "execution_count": 49,
   "metadata": {},
   "outputs": [],
   "source": [
    "def add_pass_defect_count(df) :\n",
    "    '''input defect sheet.output adds a column to defect sheet.returns defect sheet with added column.'''\n",
    "    df2 = df[(df['Status'] == 'Open') | (df['Status'] == 'Reopen') | (df['Status'] == 'Retest')] \n",
    "    group = df2.groupby(['Linked_Test_ID'])\n",
    "    df1 = group.Defect_ID.agg('count').reset_index()\n",
    "    df1 = df1.rename(columns={'Defect_ID':'open_defect_count'})\n",
    "    df = pd.merge(df2,df1,how='outer',on=['Linked_Test_ID'])\n",
    "    df['open_defect_count'].fillna(0,inplace=True)\n",
    "    return df\n",
    "defect = add_pass_defect_count(defect)"
   ]
  },
  {
   "cell_type": "code",
   "execution_count": 50,
   "metadata": {},
   "outputs": [],
   "source": [
    "defect.drop(labels=['Test_Area', 'Summary','Description', 'Full_Defect_Comments', 'Also_in_OpCo', 'Detected_By'],\n",
    "           axis=1,inplace=True)\n",
    "defect = defect.rename(columns={'Linked_Test_ID':'Ts_User_08_(Test_ID)'})"
   ]
  },
  {
   "cell_type": "code",
   "execution_count": 54,
   "metadata": {},
   "outputs": [
    {
     "data": {
      "text/plain": [
       "(22409, 33)"
      ]
     },
     "execution_count": 54,
     "metadata": {},
     "output_type": "execute_result"
    }
   ],
   "source": [
    "all_tc = all_tc.sort_values('date')\n",
    "all_tc.drop_duplicates(subset=['Ts_User_08_(Test_ID)','Cy_Terminal_SW_Version','Cy_Executing_OpCo'], keep='last', inplace=True)\n",
    "all_tc.shape\n",
    "raw_data.to_excel('raw.xlsx',index=False)"
   ]
  },
  {
   "cell_type": "code",
   "execution_count": 55,
   "metadata": {},
   "outputs": [],
   "source": [
    "all_tc.to_excel('All_TC.xlsx',index=False)"
   ]
  },
  {
   "cell_type": "markdown",
   "metadata": {},
   "source": [
    "### Reading RN and creating dict"
   ]
  },
  {
   "cell_type": "code",
   "execution_count": 92,
   "metadata": {},
   "outputs": [],
   "source": [
    "from IPython.core.interactiveshell import InteractiveShell\n",
    "InteractiveShell.ast_node_interactivity = \"all\"\n",
    "import os\n",
    "import numpy as np\n",
    "import pandas as pd\n",
    "import warnings\n",
    "warnings.filterwarnings('ignore')   \n",
    "Alltestcases = pd.read_excel(\"All_TC.xlsx\")\n",
    "RE_output = pd.read_excel('FinalTestSuite_nonOptimized.xlsx')"
   ]
  },
  {
   "cell_type": "code",
   "execution_count": 93,
   "metadata": {},
   "outputs": [],
   "source": [
    "Alltestcases.rename(columns={'Ts_User_08_(Test_ID)':'test_id'},inplace = True)"
   ]
  },
  {
   "cell_type": "code",
   "execution_count": 94,
   "metadata": {},
   "outputs": [],
   "source": [
    "RE_output.rename(columns={'Ts_User_08_(Test_ID)':'test_id'},inplace = True)"
   ]
  },
  {
   "cell_type": "code",
   "execution_count": 95,
   "metadata": {},
   "outputs": [],
   "source": [
    "def take_release_notes(file1) :\n",
    "    '''modified version of take_latest_release_note for internal use only.\n",
    "    returns dataframe containing given release notes.'''\n",
    "    #file1 = input('Please enter excel file names of latest release : ' )       \n",
    "    if(not (file1.endswith('.xls') or file1.endswith('.xlsx'))) :\n",
    "        file1 = file1+'.xlsx'\n",
    "    if(not(os.path.isfile(file1))) :\n",
    "        print('no file found for given name : '+file1)\n",
    "        take_release_notes()\n",
    "    row1 = pd.read_excel(file1)\n",
    "    if(row1.empty) :\n",
    "        print('Given excel file is empty')\n",
    "        take_release_notes()\n",
    "    if(row1.duplicated(subset=' Release Notes Name').any() == True) :\n",
    "        print('Given file contains duplicate column names.Please update it.')\n",
    "        take_release_notes()\n",
    "    df = row1.set_index(' Release Notes Name').T\n",
    "    return df\n",
    "RN = take_release_notes('Release notes_Hima_TA2_DSIM')"
   ]
  },
  {
   "cell_type": "markdown",
   "metadata": {},
   "source": [
    "### Condition -1 "
   ]
  },
  {
   "cell_type": "code",
   "execution_count": 96,
   "metadata": {},
   "outputs": [],
   "source": [
    "soft_ver = RN['Software Version'].values[0].strip()\n",
    "Alltestcases['is_selected'] = np.where(((Alltestcases['Cy_Terminal_SW_Version'] == soft_ver) &  ( Alltestcases['Cy_Executing_OpCo'] == 'CTC' )), 1, 0)"
   ]
  },
  {
   "cell_type": "code",
   "execution_count": 97,
   "metadata": {},
   "outputs": [
    {
     "data": {
      "text/plain": [
       "0    22170\n",
       "1      239\n",
       "Name: is_selected, dtype: int64"
      ]
     },
     "execution_count": 97,
     "metadata": {},
     "output_type": "execute_result"
    }
   ],
   "source": [
    "Alltestcases['is_selected'].value_counts()"
   ]
  },
  {
   "cell_type": "markdown",
   "metadata": {},
   "source": [
    "### Condition -2 "
   ]
  },
  {
   "cell_type": "code",
   "execution_count": 84,
   "metadata": {},
   "outputs": [],
   "source": [
    "Alltestcases['is_selected'] = Alltestcases['test_id'].isin(RE_output['test_id'])"
   ]
  },
  {
   "cell_type": "code",
   "execution_count": 87,
   "metadata": {},
   "outputs": [
    {
     "data": {
      "text/plain": [
       "False    14047\n",
       "True      8362\n",
       "Name: is_selected, dtype: int64"
      ]
     },
     "execution_count": 87,
     "metadata": {},
     "output_type": "execute_result"
    }
   ],
   "source": [
    "Alltestcases['is_selected'].value_counts()"
   ]
  },
  {
   "cell_type": "code",
   "execution_count": 98,
   "metadata": {},
   "outputs": [],
   "source": [
    "dict1 = {'Defect': [25731, 25706, 25717, 25724], 'known_issue': [], 'service_name': ['Advanced LTE DL'], \n",
    "         'imei_sv': ['IMEI-SV'], 'release_type': ['TA'], 'terminal': 'Hima'}\n",
    "dict2 =  {'Defect': [25670, 25717, 25719, 25722, 25728], 'service_name': [], \n",
    "          'imei_sv': ['IMEI-SV'], 'release_type': ['MR0'], 'terminal': 'Hima'}"
   ]
  },
  {
   "cell_type": "code",
   "execution_count": 99,
   "metadata": {},
   "outputs": [],
   "source": [
    "def add_columns_from_input(dict,df) :\n",
    "    '''pass dictionary we are getting from RN_diff function. and master dataframe in which you want to add the columns.\n",
    "    Return dataframe with added columns.'''\n",
    "    defect_list = dict.get('Defect')\n",
    "    col_name = 'defect_from_RN'\n",
    "    if len(defect_list)==0:\n",
    "        df['defect_from_RN']= 0\n",
    "    else:\n",
    "        for i,defect in enumerate(defect_list) :\n",
    "            df.loc[df['Defect_ID'] == defect, col_name] = defect\n",
    "        df[col_name].fillna(0,inplace=True)\n",
    "    area_list = dict.get('service_name')\n",
    "    imei_sv = dict.get('imei_sv')\n",
    "    if(len(imei_sv) == 1 ) :\n",
    "        area_list.extend(imei_sv)\n",
    "    col_name = 'area_from_RN'\n",
    "    for i,area in enumerate(area_list) :\n",
    "        df.loc[df['Ts_Test_Area'] == area, col_name] = area\n",
    "    df[col_name].fillna('missing',inplace=True)\n",
    "    df['input_terminal'] = str(dict.get('terminal'))\n",
    "    df['input_release'] = str(dict.get('release_type')[0])\n",
    "    return df\n",
    "Alltestcases = add_columns_from_input(dict1,Alltestcases)"
   ]
  },
  {
   "cell_type": "code",
   "execution_count": 100,
   "metadata": {},
   "outputs": [],
   "source": [
    "Alltestcases.to_excel('master1_old.xlsx',index=False)"
   ]
  },
  {
   "cell_type": "code",
   "execution_count": null,
   "metadata": {},
   "outputs": [],
   "source": []
  }
 ],
 "metadata": {
  "kernelspec": {
   "display_name": "Python 3",
   "language": "python",
   "name": "python3"
  },
  "language_info": {
   "codemirror_mode": {
    "name": "ipython",
    "version": 3
   },
   "file_extension": ".py",
   "mimetype": "text/x-python",
   "name": "python",
   "nbconvert_exporter": "python",
   "pygments_lexer": "ipython3",
   "version": "3.6.5"
  }
 },
 "nbformat": 4,
 "nbformat_minor": 2
}
