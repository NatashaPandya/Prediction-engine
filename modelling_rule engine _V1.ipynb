{
 "cells": [
  {
   "cell_type": "code",
   "execution_count": 1,
   "metadata": {
    "scrolled": true
   },
   "outputs": [],
   "source": [
    "from IPython.core.interactiveshell import InteractiveShell\n",
    "InteractiveShell.ast_node_interactivity = \"all\"\n",
    "import pandas as pd\n",
    "import numpy as np\n",
    "from sklearn.preprocessing import LabelEncoder\n",
    "from category_encoders import BinaryEncoder\n",
    "from sklearn.preprocessing import OneHotEncoder\n",
    "from sklearn.model_selection import train_test_split\n",
    "from sklearn.linear_model import LogisticRegression\n",
    "from sklearn.metrics import accuracy_score\n",
    "from sklearn.metrics import f1_score\n",
    "from sklearn.model_selection import StratifiedKFold\n",
    "#from prettytable import PrettyTable\n",
    "from sklearn.model_selection import cross_val_score\n",
    "from sklearn.model_selection import GridSearchCV\n",
    "import warnings\n",
    "warnings.filterwarnings('ignore')\n",
    "master = pd.read_excel('master.xlsx')\n",
    "test = pd.read_excel('test.xlsx')"
   ]
  },
  {
   "cell_type": "code",
   "execution_count": 2,
   "metadata": {},
   "outputs": [],
   "source": [
    "master.drop(labels=['test_id', 'Ts_Name','Ts_TCD_Releases', 'Ts_Executing_OpCos','Cy_Terminal_SW_Version','Ts_TCD_Releases','date',\n",
    "                     'Ts_Description(draft)','fail_count','pass_count','Cy_Executing_OpCo',\n",
    "                     'pass_ratio','Rn_Tester_Name','Terminal'],axis=1,inplace=True)\n",
    "test.drop(labels=['test_id', 'Ts_Name','Ts_TCD_Releases', 'Ts_Executing_OpCos','Cy_Terminal_SW_Version','Ts_TCD_Releases','date',\n",
    "                     'Ts_Description(draft)','fail_count','pass_count','Cy_Executing_OpCo',\n",
    "                     'pass_ratio','Rn_Tester_Name','Terminal'],axis=1,inplace=True)"
   ]
  },
  {
   "cell_type": "code",
   "execution_count": 3,
   "metadata": {},
   "outputs": [],
   "source": [
    "master.loc[len(master)] = ['missing',0,0,0,0,0,0,0,'missing','2 - Serious','missing',0,'No Run',0,0,0,0,0,0,0,0,\n",
    "               0,'missing','missing','MR0']\n"
   ]
  },
  {
   "cell_type": "code",
   "execution_count": 4,
   "metadata": {},
   "outputs": [],
   "source": [
    "master['defect_from_RN'].fillna(0,inplace=True)\n",
    "test['defect_from_RN'].fillna(0,inplace=True)\n",
    "\n",
    "master['Cy_Terminal_Name'].fillna('missing',inplace=True)\n",
    "master['Cy_Terminal_Release'].fillna('missing',inplace=True)\n",
    "master['Scope_CTC'].fillna(0,inplace=True)\n",
    "master['Ts_Suggested_Severity'].fillna('missing',inplace=True)\n",
    "master['Rn_Status'].fillna('No Run',inplace=True)\n",
    "master['fail_ratio'].fillna(0.053,inplace=True)\n",
    "master['soft_ver_count'].fillna(0,inplace=True)\n",
    "master['Scope_CTC'].replace({'X':1}, inplace=True)\n",
    "master['Ts_Suggested_Severity'].replace({'4 - Minor':1, '3 - Major':2,'2 - Serious':3,'1b - Critical':4,'1a - Fatal':5,'missing':0}, inplace=True)\n",
    "master['Rn_Status'].replace({'No Run':0, 'Passed':1, 'Design Limitation':2,'Blocked':3,'Failed':4}, inplace=True)\n",
    "master['Defect_ID'].fillna(0,inplace=True)\n",
    "master['Status'].fillna('No Defect',inplace=True)\n",
    "master['Severity'].fillna('NA',inplace=True)\n",
    "master['total_defect_count'].fillna(0,inplace=True)\n",
    "master['open_defect_count'].fillna(0,inplace=True)\n",
    "\n",
    "test['Cy_Terminal_Name'].fillna('missing',inplace=True)\n",
    "test['Cy_Terminal_Release'].fillna('missing',inplace=True)\n",
    "test['Scope_CTC'].fillna(0,inplace=True)\n",
    "test['Ts_Suggested_Severity'].fillna('missing',inplace=True)\n",
    "test['Rn_Status'].fillna('No Run',inplace=True)\n",
    "test['fail_ratio'].fillna(0.053,inplace=True)\n",
    "test['soft_ver_count'].fillna(0,inplace=True)\n",
    "test['Scope_CTC'].replace({'X':1, 0:0}, inplace=True)\n",
    "test['Ts_Suggested_Severity'].replace({'4 - Minor':1, '3 - Major':2,'2 - Serious':3,'1b - Critical':4,'1a - Fatal':5,'missing':0}, inplace=True)\n",
    "test['Rn_Status'].replace({'No Run':0, 'Passed':1, 'Design Limitation':2,'Blocked':3,'Failed':4}, inplace=True)\n",
    "test['Defect_ID'].fillna(0,inplace=True)\n",
    "test['Status'].fillna('No Defect',inplace=True)\n",
    "test['Severity'].fillna('NA',inplace=True)\n",
    "test['total_defect_count'].fillna(0,inplace=True)\n",
    "test['open_defect_count'].fillna(0,inplace=True)"
   ]
  },
  {
   "cell_type": "code",
   "execution_count": 5,
   "metadata": {},
   "outputs": [],
   "source": [
    "#  scope handling\n",
    "#master['Scope_CTC'].fillna('N',inplace=True)\n",
    "master['Scope_CZ'].fillna(0,inplace=True)\n",
    "master['Scope_DE'].fillna(0,inplace=True)\n",
    "master['Scope_HU'].fillna(0,inplace=True)\n",
    "master['Scope_IE'].fillna(0,inplace=True)\n",
    "master['Scope_NL'].fillna(0,inplace=True)\n",
    "master['Scope_UK'].fillna(0,inplace=True)\n",
    "\n",
    "test['Scope_CZ'].fillna(0,inplace=True)\n",
    "test['Scope_DE'].fillna(0,inplace=True)\n",
    "test['Scope_HU'].fillna(0,inplace=True)\n",
    "test['Scope_IE'].fillna(0,inplace=True)\n",
    "test['Scope_NL'].fillna(0,inplace=True)\n",
    "test['Scope_UK'].fillna(0,inplace=True)\n",
    "\n",
    "master['Scope_CZ'].replace({'X':1, 0:0}, inplace=True)\n",
    "master['Scope_DE'].replace({'X':1, 0:0}, inplace=True)\n",
    "master['Scope_HU'].replace({'X':1, 0:0}, inplace=True)\n",
    "master['Scope_IE'].replace({'X':1, 0:0}, inplace=True)\n",
    "master['Scope_NL'].replace({'X':1, 0:0}, inplace=True)\n",
    "master['Scope_UK'].replace({'X':1, 0:0}, inplace=True)\n",
    "\n",
    "test['Scope_CZ'].replace({'X':1, 0:0}, inplace=True)\n",
    "test['Scope_DE'].replace({'X':1, 0:0}, inplace=True)\n",
    "test['Scope_HU'].replace({'X':1, 0:0}, inplace=True)\n",
    "test['Scope_IE'].replace({'X':1, 0:0}, inplace=True)\n",
    "test['Scope_NL'].replace({'X':1, 0:0}, inplace=True)\n",
    "test['Scope_UK'].replace({'X':1, 0:0}, inplace=True)"
   ]
  },
  {
   "cell_type": "code",
   "execution_count": 6,
   "metadata": {},
   "outputs": [],
   "source": [
    "master['Severity'].replace({'NA':0,'4 - Minor':1, '3 - Major':2,'2 - Serious':3,\n",
    "                                        '1b - Critical':4,'1a - Fatal':5}, inplace=True)\n",
    "master['Status'].replace({'No Defect':0, 'Closed':1, 'Design Limitation':2,'Duplicate':3,'Rejected':3,'Suspended':3,\n",
    "                                        'Retest':4,'Reopen':5,'Open':5}, inplace=True)\n",
    "test['Severity'].replace({'NA':0,'4 - Minor':1, '3 - Major':2,'2 - Serious':3,\n",
    "                                        '1b - Critical':4,'1a - Fatal':5}, inplace=True)\n",
    "test['Status'].replace({'No Defect':0, 'Closed':1, 'Design Limitation':2,'Duplicate':3,'Rejected':3,'Suspended':3,\n",
    "                                        'Retest':4,'Reopen':5,'Open':5}, inplace=True)"
   ]
  },
  {
   "cell_type": "code",
   "execution_count": 7,
   "metadata": {},
   "outputs": [],
   "source": [
    "# Traning Data\n",
    "le = LabelEncoder()\n",
    "master['Cy_Terminal_Name'] = le.fit_transform(master['Cy_Terminal_Name'])\n",
    "test['Cy_Terminal_Name'] = le.transform(test['Cy_Terminal_Name'])\n",
    "master['input_terminal'] = le.transform(master['input_terminal'])\n",
    "test['input_terminal'] = le.transform(test['input_terminal'])\n",
    "\n",
    "master['Cy_Terminal_Release'] = str(master['Cy_Terminal_Release'])\n",
    "test['Cy_Terminal_Release'] = str(test['Cy_Terminal_Release'])\n",
    "master['Cy_Terminal_Release'] = master['Cy_Terminal_Release'].apply(lambda x: 'Launch' if x.startswith('Laun') else 'MR0')\n",
    "test['Cy_Terminal_Release'] = test['Cy_Terminal_Release'].apply(lambda x: 'Launch' if x.startswith('Laun') else 'MR0')\n",
    "master['Cy_Terminal_Release'] = le.fit_transform(master['Cy_Terminal_Release'])\n",
    "test['Cy_Terminal_Release'] = le.transform(test['Cy_Terminal_Release'])\n",
    "\n",
    "master['input_release'] = le.fit_transform(master['input_release'])\n",
    "test['input_release'] = le.transform(test['input_release'])\n",
    "\n",
    "\n",
    "master['Ts_Test_Area'] = le.fit_transform(master['Ts_Test_Area'])\n",
    "test['Ts_Test_Area'] = le.transform(test['Ts_Test_Area'])\n",
    "master['area_from_RN'] = le.transform(master['area_from_RN'])\n",
    "test['area_from_RN'] = le.transform(test['area_from_RN'])\n",
    "\n",
    "master['Ts_Coverage'] = le.fit_transform(master['Ts_Coverage'])\n",
    "test['Ts_Coverage'] = le.transform(test['Ts_Coverage'])\n",
    "\n",
    "master['Defect_ID'] = le.fit_transform(master['Defect_ID'])\n",
    "test['Defect_ID'] = le.transform(test['Defect_ID'])\n",
    "master['defect_from_RN'] = le.transform(master['defect_from_RN'])\n",
    "test['defect_from_RN'] = le.transform(test['defect_from_RN'])"
   ]
  },
  {
   "cell_type": "code",
   "execution_count": 8,
   "metadata": {},
   "outputs": [
    {
     "data": {
      "text/plain": [
       "(22410, 25)"
      ]
     },
     "execution_count": 8,
     "metadata": {},
     "output_type": "execute_result"
    },
    {
     "data": {
      "text/plain": [
       "(22410, 47)"
      ]
     },
     "execution_count": 8,
     "metadata": {},
     "output_type": "execute_result"
    }
   ],
   "source": [
    "master.shape\n",
    "encoder = BinaryEncoder(cols=['Cy_Terminal_Name', 'Cy_Terminal_Release',\n",
    "       'Ts_Test_Area', 'Ts_Coverage','input_terminal', 'input_release','defect_from_RN', 'area_from_RN'])  \n",
    "master  = encoder.fit_transform(master)\n",
    "master.shape"
   ]
  },
  {
   "cell_type": "code",
   "execution_count": 9,
   "metadata": {},
   "outputs": [
    {
     "data": {
      "text/plain": [
       "(22409, 25)"
      ]
     },
     "execution_count": 9,
     "metadata": {},
     "output_type": "execute_result"
    },
    {
     "data": {
      "text/plain": [
       "(22409, 47)"
      ]
     },
     "execution_count": 9,
     "metadata": {},
     "output_type": "execute_result"
    }
   ],
   "source": [
    "test.shape\n",
    "test  = encoder.transform(test)\n",
    "test.shape"
   ]
  },
  {
   "cell_type": "code",
   "execution_count": 10,
   "metadata": {},
   "outputs": [
    {
     "data": {
      "text/plain": [
       "False"
      ]
     },
     "execution_count": 10,
     "metadata": {},
     "output_type": "execute_result"
    }
   ],
   "source": [
    "master.isnull().any().any()"
   ]
  },
  {
   "cell_type": "code",
   "execution_count": 11,
   "metadata": {},
   "outputs": [
    {
     "data": {
      "text/plain": [
       "False"
      ]
     },
     "execution_count": 11,
     "metadata": {},
     "output_type": "execute_result"
    }
   ],
   "source": [
    "test.isnull().any().any()"
   ]
  },
  {
   "cell_type": "code",
   "execution_count": 12,
   "metadata": {},
   "outputs": [
    {
     "data": {
      "text/plain": [
       "<matplotlib.axes._subplots.AxesSubplot at 0x1114052e8>"
      ]
     },
     "execution_count": 12,
     "metadata": {},
     "output_type": "execute_result"
    },
    {
     "data": {
      "text/plain": [
       "<matplotlib.figure.Figure at 0x111ba9828>"
      ]
     },
     "metadata": {},
     "output_type": "display_data"
    }
   ],
   "source": [
    "import seaborn as sns\n",
    "import matplotlib.pyplot as plt\n",
    "sns.countplot(x=master.is_selected,data=master, palette='hls')\n",
    "plt.show()"
   ]
  },
  {
   "cell_type": "code",
   "execution_count": 13,
   "metadata": {},
   "outputs": [
    {
     "data": {
      "text/plain": [
       "0    14048\n",
       "1     8362\n",
       "Name: is_selected, dtype: int64"
      ]
     },
     "execution_count": 13,
     "metadata": {},
     "output_type": "execute_result"
    }
   ],
   "source": [
    "master.is_selected.value_counts()"
   ]
  },
  {
   "cell_type": "code",
   "execution_count": 14,
   "metadata": {},
   "outputs": [],
   "source": [
    "y_train = master['is_selected']\n",
    "x_train = master.drop(labels='is_selected',axis=1)\n",
    "x_train, x_test, y_train, y_test = train_test_split(x_train, y_train, test_size=0.3, random_state=123)"
   ]
  },
  {
   "cell_type": "code",
   "execution_count": 18,
   "metadata": {},
   "outputs": [
    {
     "data": {
      "text/plain": [
       "(19776, 46)"
      ]
     },
     "execution_count": 18,
     "metadata": {},
     "output_type": "execute_result"
    }
   ],
   "source": [
    "# from imblearn.over_sampling import SMOTE\n",
    "\n",
    "# os = SMOTE(random_state= 0,ratio = 1.0)\n",
    "# #x_train, x_test, y_train, y_test = train_test_split(x_train, y_train, test_size=0.3, random_state=0)\n",
    "# #columns = x_train.columns\n",
    "\n",
    "# x_train,y_train =os.fit_sample(x_train, y_train)\n",
    "# x_train.shape\n",
    "# # x_train = pd.DataFrame(data=bal_x_train,columns=columns )\n",
    "# bal_y_train= pd.DataFrame(data=bal_y_train,columns=['y'])\n",
    "# we can Check the numbers of our data\n",
    "#print(\"length of oversampled data is \",len(bal_x_train))\n",
    "#print(\"Number of no churn in oversampled data\",len(bal_y_train[bal_y_train['y']==0]))\n",
    "#print(\"Number of churn\",len(bal_x_train[bal_y_train['y']==1]))\n",
    "#print(\"Proportion of no churn data in oversampled data is \",len(bal_y_train[bal_y_train['y']==0])/len(bal_x_train))\n",
    "#print(\"Proportion of churn data in oversampled data is \",len(bal_y_train[bal_y_train['y']==1])/len(bal_x_train))"
   ]
  },
  {
   "cell_type": "code",
   "execution_count": 15,
   "metadata": {},
   "outputs": [
    {
     "data": {
      "text/plain": [
       "(22409, 46)"
      ]
     },
     "execution_count": 15,
     "metadata": {},
     "output_type": "execute_result"
    },
    {
     "data": {
      "text/plain": [
       "(6723, 46)"
      ]
     },
     "execution_count": 15,
     "metadata": {},
     "output_type": "execute_result"
    }
   ],
   "source": [
    "Y_test = test['is_selected']\n",
    "X_test = test.drop(labels='is_selected',axis=1)\n",
    "X_test.shape\n",
    "x_test.shape"
   ]
  },
  {
   "cell_type": "code",
   "execution_count": 16,
   "metadata": {},
   "outputs": [],
   "source": [
    "clf = LogisticRegression().fit(x_train,y_train)\n",
    "Y_pred_log = clf.predict(X_test)\n",
    "y_pred_log = clf.predict(x_test)"
   ]
  },
  {
   "cell_type": "code",
   "execution_count": 17,
   "metadata": {
    "scrolled": true
   },
   "outputs": [
    {
     "data": {
      "text/plain": [
       "0.9089692101740294"
      ]
     },
     "execution_count": 17,
     "metadata": {},
     "output_type": "execute_result"
    },
    {
     "data": {
      "text/plain": [
       "0.8787158145065399"
      ]
     },
     "execution_count": 17,
     "metadata": {},
     "output_type": "execute_result"
    }
   ],
   "source": [
    "accuracy_score(y_test, y_pred_log)\n",
    "f1_score(y_test, y_pred_log) "
   ]
  },
  {
   "cell_type": "code",
   "execution_count": 18,
   "metadata": {},
   "outputs": [
    {
     "data": {
      "text/plain": [
       "0.6332277210049534"
      ]
     },
     "execution_count": 18,
     "metadata": {},
     "output_type": "execute_result"
    },
    {
     "data": {
      "text/plain": [
       "0.6849388584352358"
      ]
     },
     "execution_count": 18,
     "metadata": {},
     "output_type": "execute_result"
    }
   ],
   "source": [
    "accuracy_score(Y_test, Y_pred_log)\n",
    "f1_score(Y_test, Y_pred_log) "
   ]
  },
  {
   "cell_type": "code",
   "execution_count": 19,
   "metadata": {},
   "outputs": [
    {
     "data": {
      "text/plain": [
       "<matplotlib.axes._subplots.AxesSubplot at 0x1117cd240>"
      ]
     },
     "execution_count": 19,
     "metadata": {},
     "output_type": "execute_result"
    },
    {
     "data": {
      "text/plain": [
       "Text(0.5,1,'Confusion Matrix')"
      ]
     },
     "execution_count": 19,
     "metadata": {},
     "output_type": "execute_result"
    },
    {
     "data": {
      "text/plain": [
       "Text(0.5,15,'Prediction Label')"
      ]
     },
     "execution_count": 19,
     "metadata": {},
     "output_type": "execute_result"
    },
    {
     "data": {
      "text/plain": [
       "Text(33,0.5,'Truth Label')"
      ]
     },
     "execution_count": 19,
     "metadata": {},
     "output_type": "execute_result"
    },
    {
     "data": {
      "image/png": "[encoded data removed]",
      "text/plain": [
       "<matplotlib.figure.Figure at 0x110c239e8>"
      ]
     },
     "metadata": {},
     "output_type": "display_data"
    }
   ],
   "source": [
    "# confusion matrix\n",
    "import seaborn as sns\n",
    "import matplotlib.pyplot as plt\n",
    "from sklearn.metrics import confusion_matrix\n",
    "cm_log = confusion_matrix(Y_test, Y_pred_log)\n",
    "class_label = [\"negative\", \"positive\"]\n",
    "df_cm = pd.DataFrame(cm_log, index = class_label, columns = class_label)\n",
    "sns.heatmap(df_cm, annot = True, fmt = \"d\")\n",
    "plt.title(\"Confusion Matrix\")\n",
    "plt.xlabel(\"Prediction Label\")\n",
    "plt.ylabel(\"Truth Label\")\n",
    "plt.show()"
   ]
  },
  {
   "cell_type": "code",
   "execution_count": 20,
   "metadata": {
    "scrolled": true
   },
   "outputs": [
    {
     "data": {
      "text/plain": [
       "RandomForestClassifier(bootstrap=True, class_weight=None, criterion='gini',\n",
       "            max_depth=None, max_features='auto', max_leaf_nodes=None,\n",
       "            min_impurity_decrease=0.0, min_impurity_split=None,\n",
       "            min_samples_leaf=1, min_samples_split=2,\n",
       "            min_weight_fraction_leaf=0.0, n_estimators=10, n_jobs=1,\n",
       "            oob_score=False, random_state=None, verbose=0,\n",
       "            warm_start=False)"
      ]
     },
     "execution_count": 20,
     "metadata": {},
     "output_type": "execute_result"
    }
   ],
   "source": [
    "from sklearn.ensemble import RandomForestClassifier\n",
    "randforest = RandomForestClassifier()\n",
    "randforest.fit(x_train,y_train)\n",
    "Y_pred_RF = randforest.predict(X_test)\n",
    "y_pred_RF = randforest.predict(x_test)"
   ]
  },
  {
   "cell_type": "code",
   "execution_count": 21,
   "metadata": {
    "scrolled": true
   },
   "outputs": [
    {
     "data": {
      "text/plain": [
       "0.9974713669492786"
      ]
     },
     "execution_count": 21,
     "metadata": {},
     "output_type": "execute_result"
    },
    {
     "data": {
      "text/plain": [
       "0.9966725386572716"
      ]
     },
     "execution_count": 21,
     "metadata": {},
     "output_type": "execute_result"
    }
   ],
   "source": [
    "accuracy_score(y_test, y_pred_RF)\n",
    "f1_score(y_test, y_pred_RF) "
   ]
  },
  {
   "cell_type": "code",
   "execution_count": 22,
   "metadata": {},
   "outputs": [
    {
     "data": {
      "text/plain": [
       "0.7285019411843455"
      ]
     },
     "execution_count": 22,
     "metadata": {},
     "output_type": "execute_result"
    },
    {
     "data": {
      "text/plain": [
       "0.7316750463085472"
      ]
     },
     "execution_count": 22,
     "metadata": {},
     "output_type": "execute_result"
    }
   ],
   "source": [
    "accuracy_score(Y_test, Y_pred_RF)\n",
    "f1_score(Y_test, Y_pred_RF) "
   ]
  },
  {
   "cell_type": "code",
   "execution_count": 23,
   "metadata": {},
   "outputs": [
    {
     "data": {
      "text/plain": [
       "<matplotlib.axes._subplots.AxesSubplot at 0x1120810b8>"
      ]
     },
     "execution_count": 23,
     "metadata": {},
     "output_type": "execute_result"
    },
    {
     "data": {
      "text/plain": [
       "Text(0.5,1,'Confusion Matrix')"
      ]
     },
     "execution_count": 23,
     "metadata": {},
     "output_type": "execute_result"
    },
    {
     "data": {
      "text/plain": [
       "Text(0.5,15,'Prediction Label')"
      ]
     },
     "execution_count": 23,
     "metadata": {},
     "output_type": "execute_result"
    },
    {
     "data": {
      "text/plain": [
       "Text(33,0.5,'Truth Label')"
      ]
     },
     "execution_count": 23,
     "metadata": {},
     "output_type": "execute_result"
    },
    {
     "data": {
      "image/png": "[encoded data removed]",
      "text/plain": [
       "<matplotlib.figure.Figure at 0x111f54b38>"
      ]
     },
     "metadata": {},
     "output_type": "display_data"
    }
   ],
   "source": [
    "# confusion matrix\n",
    "import seaborn as sns\n",
    "import matplotlib.pyplot as plt\n",
    "from sklearn.metrics import confusion_matrix\n",
    "cm_RF = confusion_matrix(Y_test, Y_pred_RF)\n",
    "class_label = [\"negative\", \"positive\"]\n",
    "df_cm = pd.DataFrame(cm_RF, index = class_label, columns = class_label)\n",
    "sns.heatmap(df_cm, annot = True, fmt = \"d\")\n",
    "plt.title(\"Confusion Matrix\")\n",
    "plt.xlabel(\"Prediction Label\")\n",
    "plt.ylabel(\"Truth Label\")\n",
    "plt.show()"
   ]
  },
  {
   "cell_type": "code",
   "execution_count": 24,
   "metadata": {},
   "outputs": [],
   "source": [
    "feature_importances = pd.DataFrame(randforest.feature_importances_,\n",
    "                                   index = x_train.columns,\n",
    "                                    columns=['importance']).sort_values('importance',ascending=False)"
   ]
  },
  {
   "cell_type": "code",
   "execution_count": 25,
   "metadata": {},
   "outputs": [
    {
     "data": {
      "text/html": [
       "<div>\n",
       "<style scoped>\n",
       "    .dataframe tbody tr th:only-of-type {\n",
       "        vertical-align: middle;\n",
       "    }\n",
       "\n",
       "    .dataframe tbody tr th {\n",
       "        vertical-align: top;\n",
       "    }\n",
       "\n",
       "    .dataframe thead th {\n",
       "        text-align: right;\n",
       "    }\n",
       "</style>\n",
       "<table border=\"1\" class=\"dataframe\">\n",
       "  <thead>\n",
       "    <tr style=\"text-align: right;\">\n",
       "      <th></th>\n",
       "      <th>importance</th>\n",
       "    </tr>\n",
       "  </thead>\n",
       "  <tbody>\n",
       "    <tr>\n",
       "      <th>Ts_Test_Area_4</th>\n",
       "      <td>2.085445e-01</td>\n",
       "    </tr>\n",
       "    <tr>\n",
       "      <th>soft_ver_count</th>\n",
       "      <td>9.785068e-02</td>\n",
       "    </tr>\n",
       "    <tr>\n",
       "      <th>Scope_IE</th>\n",
       "      <td>7.779284e-02</td>\n",
       "    </tr>\n",
       "    <tr>\n",
       "      <th>Scope_CZ</th>\n",
       "      <td>5.661798e-02</td>\n",
       "    </tr>\n",
       "    <tr>\n",
       "      <th>Ts_Test_Area_6</th>\n",
       "      <td>5.501375e-02</td>\n",
       "    </tr>\n",
       "    <tr>\n",
       "      <th>fail_ratio</th>\n",
       "      <td>4.121363e-02</td>\n",
       "    </tr>\n",
       "    <tr>\n",
       "      <th>Ts_Test_Area_5</th>\n",
       "      <td>3.816039e-02</td>\n",
       "    </tr>\n",
       "    <tr>\n",
       "      <th>Ts_Suggested_Severity</th>\n",
       "      <td>3.528662e-02</td>\n",
       "    </tr>\n",
       "    <tr>\n",
       "      <th>Scope_DE</th>\n",
       "      <td>3.437516e-02</td>\n",
       "    </tr>\n",
       "    <tr>\n",
       "      <th>Ts_Test_Area_2</th>\n",
       "      <td>3.074093e-02</td>\n",
       "    </tr>\n",
       "    <tr>\n",
       "      <th>Scope_CTC</th>\n",
       "      <td>2.922891e-02</td>\n",
       "    </tr>\n",
       "    <tr>\n",
       "      <th>Ts_Coverage_3</th>\n",
       "      <td>2.851923e-02</td>\n",
       "    </tr>\n",
       "    <tr>\n",
       "      <th>Scope_HU</th>\n",
       "      <td>2.730919e-02</td>\n",
       "    </tr>\n",
       "    <tr>\n",
       "      <th>Ts_Coverage_7</th>\n",
       "      <td>2.710011e-02</td>\n",
       "    </tr>\n",
       "    <tr>\n",
       "      <th>Ts_Test_Area_3</th>\n",
       "      <td>2.672016e-02</td>\n",
       "    </tr>\n",
       "    <tr>\n",
       "      <th>Ts_Coverage_6</th>\n",
       "      <td>2.646203e-02</td>\n",
       "    </tr>\n",
       "    <tr>\n",
       "      <th>Ts_Coverage_5</th>\n",
       "      <td>2.575450e-02</td>\n",
       "    </tr>\n",
       "    <tr>\n",
       "      <th>Ts_Coverage_4</th>\n",
       "      <td>2.444885e-02</td>\n",
       "    </tr>\n",
       "    <tr>\n",
       "      <th>Scope_NL</th>\n",
       "      <td>2.223572e-02</td>\n",
       "    </tr>\n",
       "    <tr>\n",
       "      <th>Scope_UK</th>\n",
       "      <td>2.073040e-02</td>\n",
       "    </tr>\n",
       "    <tr>\n",
       "      <th>total_defect_count</th>\n",
       "      <td>1.468612e-02</td>\n",
       "    </tr>\n",
       "    <tr>\n",
       "      <th>Defect_ID</th>\n",
       "      <td>1.435865e-02</td>\n",
       "    </tr>\n",
       "    <tr>\n",
       "      <th>Rn_Status</th>\n",
       "      <td>6.549157e-03</td>\n",
       "    </tr>\n",
       "    <tr>\n",
       "      <th>Severity</th>\n",
       "      <td>5.586304e-03</td>\n",
       "    </tr>\n",
       "    <tr>\n",
       "      <th>Cy_Terminal_Name_2</th>\n",
       "      <td>4.829554e-03</td>\n",
       "    </tr>\n",
       "    <tr>\n",
       "      <th>Ts_Test_Area_1</th>\n",
       "      <td>4.550840e-03</td>\n",
       "    </tr>\n",
       "    <tr>\n",
       "      <th>Cy_Terminal_Name_4</th>\n",
       "      <td>3.617260e-03</td>\n",
       "    </tr>\n",
       "    <tr>\n",
       "      <th>Ts_Coverage_2</th>\n",
       "      <td>2.931475e-03</td>\n",
       "    </tr>\n",
       "    <tr>\n",
       "      <th>open_defect_count</th>\n",
       "      <td>2.557536e-03</td>\n",
       "    </tr>\n",
       "    <tr>\n",
       "      <th>Status</th>\n",
       "      <td>2.343882e-03</td>\n",
       "    </tr>\n",
       "    <tr>\n",
       "      <th>Cy_Terminal_Name_3</th>\n",
       "      <td>2.107820e-03</td>\n",
       "    </tr>\n",
       "    <tr>\n",
       "      <th>Cy_Terminal_Name_1</th>\n",
       "      <td>1.409649e-03</td>\n",
       "    </tr>\n",
       "    <tr>\n",
       "      <th>defect_from_RN_1</th>\n",
       "      <td>1.304280e-04</td>\n",
       "    </tr>\n",
       "    <tr>\n",
       "      <th>area_from_RN_1</th>\n",
       "      <td>1.250095e-04</td>\n",
       "    </tr>\n",
       "    <tr>\n",
       "      <th>defect_from_RN_2</th>\n",
       "      <td>9.916784e-05</td>\n",
       "    </tr>\n",
       "    <tr>\n",
       "      <th>Ts_Coverage_1</th>\n",
       "      <td>1.153971e-05</td>\n",
       "    </tr>\n",
       "    <tr>\n",
       "      <th>input_release_1</th>\n",
       "      <td>3.892647e-08</td>\n",
       "    </tr>\n",
       "    <tr>\n",
       "      <th>Cy_Terminal_Name_0</th>\n",
       "      <td>0.000000e+00</td>\n",
       "    </tr>\n",
       "    <tr>\n",
       "      <th>area_from_RN_0</th>\n",
       "      <td>0.000000e+00</td>\n",
       "    </tr>\n",
       "    <tr>\n",
       "      <th>defect_from_RN_0</th>\n",
       "      <td>0.000000e+00</td>\n",
       "    </tr>\n",
       "    <tr>\n",
       "      <th>input_terminal_1</th>\n",
       "      <td>0.000000e+00</td>\n",
       "    </tr>\n",
       "    <tr>\n",
       "      <th>input_terminal_0</th>\n",
       "      <td>0.000000e+00</td>\n",
       "    </tr>\n",
       "    <tr>\n",
       "      <th>Ts_Coverage_0</th>\n",
       "      <td>0.000000e+00</td>\n",
       "    </tr>\n",
       "    <tr>\n",
       "      <th>Ts_Test_Area_0</th>\n",
       "      <td>0.000000e+00</td>\n",
       "    </tr>\n",
       "    <tr>\n",
       "      <th>Cy_Terminal_Release_0</th>\n",
       "      <td>0.000000e+00</td>\n",
       "    </tr>\n",
       "    <tr>\n",
       "      <th>input_release_0</th>\n",
       "      <td>0.000000e+00</td>\n",
       "    </tr>\n",
       "  </tbody>\n",
       "</table>\n",
       "</div>"
      ],
      "text/plain": [
       "                         importance\n",
       "Ts_Test_Area_4         2.085445e-01\n",
       "soft_ver_count         9.785068e-02\n",
       "Scope_IE               7.779284e-02\n",
       "Scope_CZ               5.661798e-02\n",
       "Ts_Test_Area_6         5.501375e-02\n",
       "fail_ratio             4.121363e-02\n",
       "Ts_Test_Area_5         3.816039e-02\n",
       "Ts_Suggested_Severity  3.528662e-02\n",
       "Scope_DE               3.437516e-02\n",
       "Ts_Test_Area_2         3.074093e-02\n",
       "Scope_CTC              2.922891e-02\n",
       "Ts_Coverage_3          2.851923e-02\n",
       "Scope_HU               2.730919e-02\n",
       "Ts_Coverage_7          2.710011e-02\n",
       "Ts_Test_Area_3         2.672016e-02\n",
       "Ts_Coverage_6          2.646203e-02\n",
       "Ts_Coverage_5          2.575450e-02\n",
       "Ts_Coverage_4          2.444885e-02\n",
       "Scope_NL               2.223572e-02\n",
       "Scope_UK               2.073040e-02\n",
       "total_defect_count     1.468612e-02\n",
       "Defect_ID              1.435865e-02\n",
       "Rn_Status              6.549157e-03\n",
       "Severity               5.586304e-03\n",
       "Cy_Terminal_Name_2     4.829554e-03\n",
       "Ts_Test_Area_1         4.550840e-03\n",
       "Cy_Terminal_Name_4     3.617260e-03\n",
       "Ts_Coverage_2          2.931475e-03\n",
       "open_defect_count      2.557536e-03\n",
       "Status                 2.343882e-03\n",
       "Cy_Terminal_Name_3     2.107820e-03\n",
       "Cy_Terminal_Name_1     1.409649e-03\n",
       "defect_from_RN_1       1.304280e-04\n",
       "area_from_RN_1         1.250095e-04\n",
       "defect_from_RN_2       9.916784e-05\n",
       "Ts_Coverage_1          1.153971e-05\n",
       "input_release_1        3.892647e-08\n",
       "Cy_Terminal_Name_0     0.000000e+00\n",
       "area_from_RN_0         0.000000e+00\n",
       "defect_from_RN_0       0.000000e+00\n",
       "input_terminal_1       0.000000e+00\n",
       "input_terminal_0       0.000000e+00\n",
       "Ts_Coverage_0          0.000000e+00\n",
       "Ts_Test_Area_0         0.000000e+00\n",
       "Cy_Terminal_Release_0  0.000000e+00\n",
       "input_release_0        0.000000e+00"
      ]
     },
     "execution_count": 25,
     "metadata": {},
     "output_type": "execute_result"
    }
   ],
   "source": [
    "feature_importances"
   ]
  },
  {
   "cell_type": "code",
   "execution_count": 26,
   "metadata": {
    "scrolled": true
   },
   "outputs": [
    {
     "ename": "ModuleNotFoundError",
     "evalue": "No module named 'xgboost'",
     "output_type": "error",
     "traceback": [
      "\u001b[0;31m---------------------------------------------------------------------------\u001b[0m",
      "\u001b[0;31mModuleNotFoundError\u001b[0m                       Traceback (most recent call last)",
      "\u001b[0;32m<ipython-input-26-c6b7be4c82cf>\u001b[0m in \u001b[0;36m<module>\u001b[0;34m()\u001b[0m\n\u001b[0;32m----> 1\u001b[0;31m \u001b[0;32mfrom\u001b[0m \u001b[0mxgboost\u001b[0m \u001b[0;32mimport\u001b[0m \u001b[0mXGBClassifier\u001b[0m\u001b[0;34m\u001b[0m\u001b[0m\n\u001b[0m\u001b[1;32m      2\u001b[0m \u001b[0mXGClass\u001b[0m \u001b[0;34m=\u001b[0m \u001b[0mXGBClassifier\u001b[0m\u001b[0;34m(\u001b[0m\u001b[0;34m)\u001b[0m\u001b[0;34m\u001b[0m\u001b[0m\n\u001b[1;32m      3\u001b[0m \u001b[0mXGClass\u001b[0m\u001b[0;34m.\u001b[0m\u001b[0mfit\u001b[0m\u001b[0;34m(\u001b[0m\u001b[0mx_train\u001b[0m\u001b[0;34m,\u001b[0m\u001b[0my_train\u001b[0m\u001b[0;34m)\u001b[0m\u001b[0;34m\u001b[0m\u001b[0m\n\u001b[1;32m      4\u001b[0m \u001b[0mY_pred_XG\u001b[0m \u001b[0;34m=\u001b[0m \u001b[0mXGClass\u001b[0m\u001b[0;34m.\u001b[0m\u001b[0mpredict\u001b[0m\u001b[0;34m(\u001b[0m\u001b[0mX_test\u001b[0m\u001b[0;34m)\u001b[0m\u001b[0;34m\u001b[0m\u001b[0m\n\u001b[1;32m      5\u001b[0m \u001b[0my_pred_XG\u001b[0m \u001b[0;34m=\u001b[0m \u001b[0mXGClass\u001b[0m\u001b[0;34m.\u001b[0m\u001b[0mpredict\u001b[0m\u001b[0;34m(\u001b[0m\u001b[0mx_test\u001b[0m\u001b[0;34m)\u001b[0m\u001b[0;34m\u001b[0m\u001b[0m\n",
      "\u001b[0;31mModuleNotFoundError\u001b[0m: No module named 'xgboost'"
     ]
    }
   ],
   "source": [
    "from xgboost import XGBClassifier\n",
    "XGClass = XGBClassifier()\n",
    "XGClass.fit(x_train,y_train)\n",
    "Y_pred_XG = XGClass.predict(X_test)\n",
    "y_pred_XG = XGClass.predict(x_test)"
   ]
  },
  {
   "cell_type": "code",
   "execution_count": 29,
   "metadata": {
    "scrolled": true
   },
   "outputs": [
    {
     "data": {
      "text/plain": [
       "0.9885467797114383"
      ]
     },
     "execution_count": 29,
     "metadata": {},
     "output_type": "execute_result"
    },
    {
     "data": {
      "text/plain": [
       "0.17204301075268816"
      ]
     },
     "execution_count": 29,
     "metadata": {},
     "output_type": "execute_result"
    }
   ],
   "source": [
    "accuracy_score(y_test, y_pred_XG)\n",
    "f1_score(y_test, y_pred_XG) "
   ]
  },
  {
   "cell_type": "code",
   "execution_count": 30,
   "metadata": {},
   "outputs": [
    {
     "data": {
      "text/plain": [
       "0.9895131420411442"
      ]
     },
     "execution_count": 30,
     "metadata": {},
     "output_type": "execute_result"
    },
    {
     "data": {
      "text/plain": [
       "0.17543859649122806"
      ]
     },
     "execution_count": 30,
     "metadata": {},
     "output_type": "execute_result"
    }
   ],
   "source": [
    "accuracy_score(Y_test, Y_pred_XG)\n",
    "f1_score(Y_test, Y_pred_XG) "
   ]
  },
  {
   "cell_type": "code",
   "execution_count": 31,
   "metadata": {},
   "outputs": [
    {
     "data": {
      "text/plain": [
       "<matplotlib.axes._subplots.AxesSubplot at 0x17d55f92e48>"
      ]
     },
     "execution_count": 31,
     "metadata": {},
     "output_type": "execute_result"
    },
    {
     "data": {
      "text/plain": [
       "Text(0.5, 1.0, 'Confusion Matrix')"
      ]
     },
     "execution_count": 31,
     "metadata": {},
     "output_type": "execute_result"
    },
    {
     "data": {
      "text/plain": [
       "Text(0.5, 15.0, 'Prediction Label')"
      ]
     },
     "execution_count": 31,
     "metadata": {},
     "output_type": "execute_result"
    },
    {
     "data": {
      "text/plain": [
       "Text(33.0, 0.5, 'Truth Label')"
      ]
     },
     "execution_count": 31,
     "metadata": {},
     "output_type": "execute_result"
    },
    {
     "data": {
      "image/png": "[encoded data removed]",
      "text/plain": [
       "<Figure size 432x288 with 2 Axes>"
      ]
     },
     "metadata": {
      "needs_background": "light"
     },
     "output_type": "display_data"
    }
   ],
   "source": [
    "# confusion matrix\n",
    "import seaborn as sns\n",
    "import matplotlib.pyplot as plt\n",
    "from sklearn.metrics import confusion_matrix\n",
    "cm_XG = confusion_matrix(Y_test, Y_pred_XG)\n",
    "class_label = [\"negative\", \"positive\"]\n",
    "df_cm = pd.DataFrame(cm_XG, index = class_label, columns = class_label)\n",
    "sns.heatmap(df_cm, annot = True, fmt = \"d\")\n",
    "plt.title(\"Confusion Matrix\")\n",
    "plt.xlabel(\"Prediction Label\")\n",
    "plt.ylabel(\"Truth Label\")\n",
    "plt.show()"
   ]
  },
  {
   "cell_type": "code",
   "execution_count": 27,
   "metadata": {
    "scrolled": true
   },
   "outputs": [
    {
     "data": {
      "text/plain": [
       "SVC(C=1.0, cache_size=200, class_weight=None, coef0=0.0,\n",
       "  decision_function_shape='ovr', degree=3, gamma='auto', kernel='rbf',\n",
       "  max_iter=-1, probability=False, random_state=None, shrinking=True,\n",
       "  tol=0.001, verbose=False)"
      ]
     },
     "execution_count": 27,
     "metadata": {},
     "output_type": "execute_result"
    }
   ],
   "source": [
    "from sklearn import svm\n",
    "clf = svm.SVC(kernel= 'rbf')\n",
    "clf.fit(x_train,y_train)\n",
    "Y_pred_sv = clf.predict(X_test)\n",
    "y_pred_sv = clf.predict(x_test)"
   ]
  },
  {
   "cell_type": "code",
   "execution_count": 28,
   "metadata": {
    "scrolled": true
   },
   "outputs": [
    {
     "data": {
      "text/plain": [
       "0.9775397887847687"
      ]
     },
     "execution_count": 28,
     "metadata": {},
     "output_type": "execute_result"
    },
    {
     "data": {
      "text/plain": [
       "0.9703631010794898"
      ]
     },
     "execution_count": 28,
     "metadata": {},
     "output_type": "execute_result"
    }
   ],
   "source": [
    "accuracy_score(y_test, y_pred_sv)\n",
    "f1_score(y_test, y_pred_sv) "
   ]
  },
  {
   "cell_type": "code",
   "execution_count": 29,
   "metadata": {},
   "outputs": [
    {
     "data": {
      "text/plain": [
       "0.7120799678700522"
      ]
     },
     "execution_count": 29,
     "metadata": {},
     "output_type": "execute_result"
    },
    {
     "data": {
      "text/plain": [
       "0.7141591352117669"
      ]
     },
     "execution_count": 29,
     "metadata": {},
     "output_type": "execute_result"
    }
   ],
   "source": [
    "accuracy_score(Y_test, Y_pred_sv)\n",
    "f1_score(Y_test, Y_pred_sv) "
   ]
  },
  {
   "cell_type": "code",
   "execution_count": 30,
   "metadata": {
    "scrolled": true
   },
   "outputs": [
    {
     "data": {
      "text/plain": [
       "<matplotlib.axes._subplots.AxesSubplot at 0x11264aa20>"
      ]
     },
     "execution_count": 30,
     "metadata": {},
     "output_type": "execute_result"
    },
    {
     "data": {
      "text/plain": [
       "Text(0.5,1,'Confusion Matrix')"
      ]
     },
     "execution_count": 30,
     "metadata": {},
     "output_type": "execute_result"
    },
    {
     "data": {
      "text/plain": [
       "Text(0.5,15,'Prediction Label')"
      ]
     },
     "execution_count": 30,
     "metadata": {},
     "output_type": "execute_result"
    },
    {
     "data": {
      "text/plain": [
       "Text(33,0.5,'Truth Label')"
      ]
     },
     "execution_count": 30,
     "metadata": {},
     "output_type": "execute_result"
    },
    {
     "data": {
      "image/png": "[encoded data removed]",
      "text/plain": [
       "<matplotlib.figure.Figure at 0x11264a4a8>"
      ]
     },
     "metadata": {},
     "output_type": "display_data"
    }
   ],
   "source": [
    "# confusion matrix\n",
    "import seaborn as sns\n",
    "import matplotlib.pyplot as plt\n",
    "from sklearn.metrics import confusion_matrix\n",
    "cm_sv = confusion_matrix(Y_test, Y_pred_sv)\n",
    "class_label = [\"negative\", \"positive\"]\n",
    "df_cm = pd.DataFrame(cm_sv, index = class_label, columns = class_label)\n",
    "sns.heatmap(df_cm, annot = True, fmt = \"d\")\n",
    "plt.title(\"Confusion Matrix\")\n",
    "plt.xlabel(\"Prediction Label\")\n",
    "plt.ylabel(\"Truth Label\")\n",
    "plt.show()"
   ]
  },
  {
   "cell_type": "markdown",
   "metadata": {},
   "source": [
    "## PCA"
   ]
  },
  {
   "cell_type": "code",
   "execution_count": 31,
   "metadata": {},
   "outputs": [],
   "source": [
    "from sklearn.decomposition import PCA\n",
    "pca_again = PCA(0.99)"
   ]
  },
  {
   "cell_type": "code",
   "execution_count": 32,
   "metadata": {},
   "outputs": [
    {
     "data": {
      "text/plain": [
       "(15687, 6)"
      ]
     },
     "execution_count": 32,
     "metadata": {},
     "output_type": "execute_result"
    }
   ],
   "source": [
    "xtrain_pca2 = pca_again.fit_transform(x_train,y_train)\n",
    "xtrain_pca2.shape"
   ]
  },
  {
   "cell_type": "code",
   "execution_count": 33,
   "metadata": {},
   "outputs": [
    {
     "data": {
      "text/plain": [
       "(22409, 6)"
      ]
     },
     "execution_count": 33,
     "metadata": {},
     "output_type": "execute_result"
    }
   ],
   "source": [
    "Xtest_pca2 = pca_again.transform(X_test)\n",
    "xtest_pca2 = pca_again.transform(x_test)\n",
    "Xtest_pca2.shape"
   ]
  },
  {
   "cell_type": "code",
   "execution_count": 34,
   "metadata": {},
   "outputs": [],
   "source": [
    "clf_pca = LogisticRegression().fit(xtrain_pca2,y_train)\n",
    "Y_pred_log_pca = clf_pca.predict(Xtest_pca2)"
   ]
  },
  {
   "cell_type": "code",
   "execution_count": 35,
   "metadata": {
    "scrolled": true
   },
   "outputs": [
    {
     "data": {
      "text/plain": [
       "0.6164041233432995"
      ]
     },
     "execution_count": 35,
     "metadata": {},
     "output_type": "execute_result"
    },
    {
     "data": {
      "text/plain": [
       "0.5926066350710899"
      ]
     },
     "execution_count": 35,
     "metadata": {},
     "output_type": "execute_result"
    }
   ],
   "source": [
    "accuracy_score(Y_test, Y_pred_log_pca)\n",
    "f1_score(Y_test, Y_pred_log_pca)"
   ]
  },
  {
   "cell_type": "code",
   "execution_count": 36,
   "metadata": {},
   "outputs": [
    {
     "data": {
      "text/plain": [
       "RandomForestClassifier(bootstrap=True, class_weight=None, criterion='gini',\n",
       "            max_depth=None, max_features='auto', max_leaf_nodes=None,\n",
       "            min_impurity_decrease=0.0, min_impurity_split=None,\n",
       "            min_samples_leaf=1, min_samples_split=2,\n",
       "            min_weight_fraction_leaf=0.0, n_estimators=10, n_jobs=1,\n",
       "            oob_score=False, random_state=None, verbose=0,\n",
       "            warm_start=False)"
      ]
     },
     "execution_count": 36,
     "metadata": {},
     "output_type": "execute_result"
    }
   ],
   "source": [
    "randforest.fit(xtrain_pca2,y_train)\n",
    "Y_pred_RF = randforest.predict(Xtest_pca2)\n",
    "y_pred_RF = randforest.predict(xtest_pca2)"
   ]
  },
  {
   "cell_type": "code",
   "execution_count": 37,
   "metadata": {},
   "outputs": [
    {
     "data": {
      "text/plain": [
       "0.9940502751747732"
      ]
     },
     "execution_count": 37,
     "metadata": {},
     "output_type": "execute_result"
    },
    {
     "data": {
      "text/plain": [
       "0.992156862745098"
      ]
     },
     "execution_count": 37,
     "metadata": {},
     "output_type": "execute_result"
    }
   ],
   "source": [
    "accuracy_score(y_test, y_pred_RF)\n",
    "f1_score(y_test, y_pred_RF) "
   ]
  },
  {
   "cell_type": "code",
   "execution_count": 38,
   "metadata": {},
   "outputs": [
    {
     "data": {
      "text/plain": [
       "0.7274755678522022"
      ]
     },
     "execution_count": 38,
     "metadata": {},
     "output_type": "execute_result"
    },
    {
     "data": {
      "text/plain": [
       "0.7304823690365858"
      ]
     },
     "execution_count": 38,
     "metadata": {},
     "output_type": "execute_result"
    }
   ],
   "source": [
    "accuracy_score(Y_test, Y_pred_RF)\n",
    "f1_score(Y_test, Y_pred_RF) "
   ]
  },
  {
   "cell_type": "code",
   "execution_count": 39,
   "metadata": {
    "scrolled": true
   },
   "outputs": [
    {
     "data": {
      "text/plain": [
       "<matplotlib.axes._subplots.AxesSubplot at 0x11255cc50>"
      ]
     },
     "execution_count": 39,
     "metadata": {},
     "output_type": "execute_result"
    },
    {
     "data": {
      "text/plain": [
       "Text(0.5,1,'Confusion Matrix')"
      ]
     },
     "execution_count": 39,
     "metadata": {},
     "output_type": "execute_result"
    },
    {
     "data": {
      "text/plain": [
       "Text(0.5,15,'Prediction Label')"
      ]
     },
     "execution_count": 39,
     "metadata": {},
     "output_type": "execute_result"
    },
    {
     "data": {
      "text/plain": [
       "Text(33,0.5,'Truth Label')"
      ]
     },
     "execution_count": 39,
     "metadata": {},
     "output_type": "execute_result"
    },
    {
     "data": {
      "image/png": "[encoded data removed]",
      "text/plain": [
       "<matplotlib.figure.Figure at 0x11255c6d8>"
      ]
     },
     "metadata": {},
     "output_type": "display_data"
    }
   ],
   "source": [
    "# confusion matrix\n",
    "import seaborn as sns\n",
    "import matplotlib.pyplot as plt\n",
    "from sklearn.metrics import confusion_matrix\n",
    "cm_RF = confusion_matrix(Y_test, Y_pred_RF)\n",
    "class_label = [\"negative\", \"positive\"]\n",
    "df_cm = pd.DataFrame(cm_RF, index = class_label, columns = class_label)\n",
    "sns.heatmap(df_cm, annot = True, fmt = \"d\")\n",
    "plt.title(\"Confusion Matrix\")\n",
    "plt.xlabel(\"Prediction Label\")\n",
    "plt.ylabel(\"Truth Label\")\n",
    "plt.show()"
   ]
  },
  {
   "cell_type": "code",
   "execution_count": 45,
   "metadata": {},
   "outputs": [
    {
     "data": {
      "text/plain": [
       "0.9895131420411442"
      ]
     },
     "execution_count": 45,
     "metadata": {},
     "output_type": "execute_result"
    },
    {
     "name": "stderr",
     "output_type": "stream",
     "text": [
      "C:\\ProgramData\\Anaconda3\\lib\\site-packages\\sklearn\\metrics\\classification.py:1143: UndefinedMetricWarning: F-score is ill-defined and being set to 0.0 due to no predicted samples.\n",
      "  'precision', 'predicted', average, warn_for)\n"
     ]
    },
    {
     "data": {
      "text/plain": [
       "0.0"
      ]
     },
     "execution_count": 45,
     "metadata": {},
     "output_type": "execute_result"
    }
   ],
   "source": [
    "clf = XGBClassifier().fit(xtrain_pca2,y_train)\n",
    "Y_pred_xg = clf.predict(Xtest_pca2)\n",
    "accuracy_score(Y_test, Y_pred_xg)\n",
    "f1_score(Y_test, Y_pred_xg) "
   ]
  },
  {
   "cell_type": "code",
   "execution_count": null,
   "metadata": {},
   "outputs": [],
   "source": [
    "clf = svm.SVC(kernel= 'poly').fit(xtrain_pca2,y_train)\n",
    "Y_pred_sv = clf.predict(Xtest_pca2)\n",
    "accuracy_score(Y_test, Y_pred_sv)\n",
    "f1_score(Y_test, Y_pred_sv) "
   ]
  },
  {
   "cell_type": "code",
   "execution_count": null,
   "metadata": {},
   "outputs": [],
   "source": [
    "from sklearn.ensemble import RandomForestClassifier\n",
    "randforest = RandomForestClassifier(max_depth=14, n_jobs=-1,n_estimators=4,random_state=123,max_features =12,min_samples_leaf=0.1,\n",
    "                            class_weight='balanced')\n",
    "randforest.fit(x_train,y_train)\n",
    "Y_pred_RF = randforest.predict(X_test)\n"
   ]
  },
  {
   "cell_type": "code",
   "execution_count": 1,
   "metadata": {},
   "outputs": [
    {
     "ename": "NameError",
     "evalue": "name 'accuracy_score' is not defined",
     "output_type": "error",
     "traceback": [
      "\u001b[0;31m---------------------------------------------------------------------------\u001b[0m",
      "\u001b[0;31mNameError\u001b[0m                                 Traceback (most recent call last)",
      "\u001b[0;32m<ipython-input-1-a1c16e235830>\u001b[0m in \u001b[0;36m<module>\u001b[0;34m()\u001b[0m\n\u001b[0;32m----> 1\u001b[0;31m \u001b[0maccuracy_score\u001b[0m\u001b[0;34m(\u001b[0m\u001b[0mY_test\u001b[0m\u001b[0;34m,\u001b[0m \u001b[0mY_pred_RF\u001b[0m\u001b[0;34m)\u001b[0m\u001b[0;34m\u001b[0m\u001b[0m\n\u001b[0m\u001b[1;32m      2\u001b[0m \u001b[0mf1_score\u001b[0m\u001b[0;34m(\u001b[0m\u001b[0mY_test\u001b[0m\u001b[0;34m,\u001b[0m \u001b[0mY_pred_RF\u001b[0m\u001b[0;34m)\u001b[0m\u001b[0;34m\u001b[0m\u001b[0m\n",
      "\u001b[0;31mNameError\u001b[0m: name 'accuracy_score' is not defined"
     ]
    }
   ],
   "source": [
    "accuracy_score(Y_test, Y_pred_RF)\n",
    "f1_score(Y_test, Y_pred_RF) "
   ]
  },
  {
   "cell_type": "markdown",
   "metadata": {},
   "source": [
    "# Grid serach CV and hyperparameter tunnnig"
   ]
  },
  {
   "cell_type": "code",
   "execution_count": 146,
   "metadata": {},
   "outputs": [],
   "source": [
    "# stratified k fold\n",
    "randforest = RandomForestClassifier(n_jobs=-1,random_state=123,class_weight='balanced')\n",
    "folds = StratifiedKFold(n_splits = 5, shuffle = True, random_state = 123)\n",
    "param = {\n",
    "    \"n_estimators\": [5,10,15,20,40,60,80,120], \"max_depth\": [3, 5,7,11,15,21,30,40,50]\n",
    "}\n",
    "clf = GridSearchCV(randforest,param,cv=folds)"
   ]
  },
  {
   "cell_type": "code",
   "execution_count": 147,
   "metadata": {},
   "outputs": [
    {
     "data": {
      "text/plain": [
       "GridSearchCV(cv=StratifiedKFold(n_splits=5, random_state=123, shuffle=True),\n",
       "       error_score='raise',\n",
       "       estimator=RandomForestClassifier(bootstrap=True, class_weight='balanced',\n",
       "            criterion='gini', max_depth=None, max_features='auto',\n",
       "            max_leaf_nodes=None, min_impurity_decrease=0.0,\n",
       "            min_impurity_split=None, min_samples_leaf=1,\n",
       "            min_samples_split=2, min_weight_fraction_leaf=0.0,\n",
       "            n_estimators=10, n_jobs=-1, oob_score=False, random_state=123,\n",
       "            verbose=0, warm_start=False),\n",
       "       fit_params=None, iid=True, n_jobs=1,\n",
       "       param_grid={'n_estimators': [5, 10, 15, 20, 40, 60, 80, 120], 'max_depth': [3, 5, 7, 11, 15, 21, 30, 40, 50]},\n",
       "       pre_dispatch='2*n_jobs', refit=True, return_train_score='warn',\n",
       "       scoring=None, verbose=0)"
      ]
     },
     "execution_count": 147,
     "metadata": {},
     "output_type": "execute_result"
    }
   ],
   "source": [
    "clf.fit(x_train,y_train)"
   ]
  },
  {
   "cell_type": "code",
   "execution_count": 148,
   "metadata": {},
   "outputs": [
    {
     "data": {
      "text/plain": [
       "{'max_depth': 15, 'n_estimators': 40}"
      ]
     },
     "execution_count": 148,
     "metadata": {},
     "output_type": "execute_result"
    }
   ],
   "source": [
    "clf.best_params_"
   ]
  },
  {
   "cell_type": "code",
   "execution_count": 150,
   "metadata": {},
   "outputs": [
    {
     "data": {
      "text/plain": [
       "RandomForestClassifier(bootstrap=True, class_weight='balanced',\n",
       "            criterion='gini', max_depth=15, max_features='auto',\n",
       "            max_leaf_nodes=None, min_impurity_decrease=0.0,\n",
       "            min_impurity_split=None, min_samples_leaf=1,\n",
       "            min_samples_split=2, min_weight_fraction_leaf=0.0,\n",
       "            n_estimators=40, n_jobs=-1, oob_score=False, random_state=123,\n",
       "            verbose=0, warm_start=False)"
      ]
     },
     "execution_count": 150,
     "metadata": {},
     "output_type": "execute_result"
    },
    {
     "data": {
      "text/plain": [
       "0.7285465661118301"
      ]
     },
     "execution_count": 150,
     "metadata": {},
     "output_type": "execute_result"
    },
    {
     "data": {
      "text/plain": [
       "0.7317782971030469"
      ]
     },
     "execution_count": 150,
     "metadata": {},
     "output_type": "execute_result"
    }
   ],
   "source": [
    "randforest = RandomForestClassifier(n_jobs=-1,random_state=123,class_weight='balanced',max_depth=15,n_estimators=40)\n",
    "randforest.fit(x_train,y_train)\n",
    "y_pred = randforest.predict(X_test)\n",
    "accuracy_score(Y_test, y_pred)\n",
    "f1_score(Y_test, y_pred) "
   ]
  },
  {
   "cell_type": "code",
   "execution_count": 152,
   "metadata": {},
   "outputs": [
    {
     "data": {
      "text/plain": [
       "<matplotlib.axes._subplots.AxesSubplot at 0x1a0d805550>"
      ]
     },
     "execution_count": 152,
     "metadata": {},
     "output_type": "execute_result"
    },
    {
     "data": {
      "text/plain": [
       "Text(0.5,1,'Confusion Matrix')"
      ]
     },
     "execution_count": 152,
     "metadata": {},
     "output_type": "execute_result"
    },
    {
     "data": {
      "text/plain": [
       "Text(0.5,15,'Prediction Label')"
      ]
     },
     "execution_count": 152,
     "metadata": {},
     "output_type": "execute_result"
    },
    {
     "data": {
      "text/plain": [
       "Text(33,0.5,'Truth Label')"
      ]
     },
     "execution_count": 152,
     "metadata": {},
     "output_type": "execute_result"
    },
    {
     "data": {
      "image/png": "[encoded data removed]",
      "text/plain": [
       "<matplotlib.figure.Figure at 0x1a0d80aba8>"
      ]
     },
     "metadata": {},
     "output_type": "display_data"
    }
   ],
   "source": [
    "import seaborn as sns\n",
    "import matplotlib.pyplot as plt\n",
    "from sklearn.metrics import confusion_matrix\n",
    "cm_log = confusion_matrix(Y_test, y_pred)\n",
    "class_label = [\"negative\", \"positive\"]\n",
    "df_cm = pd.DataFrame(cm_log, index = class_label, columns = class_label)\n",
    "sns.heatmap(df_cm, annot = True, fmt = \"d\")\n",
    "plt.title(\"Confusion Matrix\")\n",
    "plt.xlabel(\"Prediction Label\")\n",
    "plt.ylabel(\"Truth Label\")\n",
    "plt.show()"
   ]
  },
  {
   "cell_type": "code",
   "execution_count": 153,
   "metadata": {},
   "outputs": [
    {
     "data": {
      "text/html": [
       "<div>\n",
       "<style scoped>\n",
       "    .dataframe tbody tr th:only-of-type {\n",
       "        vertical-align: middle;\n",
       "    }\n",
       "\n",
       "    .dataframe tbody tr th {\n",
       "        vertical-align: top;\n",
       "    }\n",
       "\n",
       "    .dataframe thead th {\n",
       "        text-align: right;\n",
       "    }\n",
       "</style>\n",
       "<table border=\"1\" class=\"dataframe\">\n",
       "  <thead>\n",
       "    <tr style=\"text-align: right;\">\n",
       "      <th></th>\n",
       "      <th>importance</th>\n",
       "    </tr>\n",
       "  </thead>\n",
       "  <tbody>\n",
       "    <tr>\n",
       "      <th>Ts_Test_Area_4</th>\n",
       "      <td>1.847500e-01</td>\n",
       "    </tr>\n",
       "    <tr>\n",
       "      <th>Ts_Test_Area_6</th>\n",
       "      <td>8.706320e-02</td>\n",
       "    </tr>\n",
       "    <tr>\n",
       "      <th>soft_ver_count</th>\n",
       "      <td>7.706388e-02</td>\n",
       "    </tr>\n",
       "    <tr>\n",
       "      <th>Scope_HU</th>\n",
       "      <td>5.352556e-02</td>\n",
       "    </tr>\n",
       "    <tr>\n",
       "      <th>Scope_CZ</th>\n",
       "      <td>4.869174e-02</td>\n",
       "    </tr>\n",
       "    <tr>\n",
       "      <th>Scope_IE</th>\n",
       "      <td>4.699882e-02</td>\n",
       "    </tr>\n",
       "    <tr>\n",
       "      <th>Ts_Coverage_6</th>\n",
       "      <td>4.107215e-02</td>\n",
       "    </tr>\n",
       "    <tr>\n",
       "      <th>Ts_Test_Area_5</th>\n",
       "      <td>3.880158e-02</td>\n",
       "    </tr>\n",
       "    <tr>\n",
       "      <th>Ts_Coverage_7</th>\n",
       "      <td>3.767832e-02</td>\n",
       "    </tr>\n",
       "    <tr>\n",
       "      <th>Ts_Suggested_Severity</th>\n",
       "      <td>3.728809e-02</td>\n",
       "    </tr>\n",
       "    <tr>\n",
       "      <th>Ts_Coverage_3</th>\n",
       "      <td>3.678674e-02</td>\n",
       "    </tr>\n",
       "    <tr>\n",
       "      <th>Scope_CTC</th>\n",
       "      <td>3.179649e-02</td>\n",
       "    </tr>\n",
       "    <tr>\n",
       "      <th>Scope_UK</th>\n",
       "      <td>3.177801e-02</td>\n",
       "    </tr>\n",
       "    <tr>\n",
       "      <th>Ts_Coverage_5</th>\n",
       "      <td>3.072972e-02</td>\n",
       "    </tr>\n",
       "    <tr>\n",
       "      <th>fail_ratio</th>\n",
       "      <td>2.632049e-02</td>\n",
       "    </tr>\n",
       "    <tr>\n",
       "      <th>Ts_Test_Area_2</th>\n",
       "      <td>2.573829e-02</td>\n",
       "    </tr>\n",
       "    <tr>\n",
       "      <th>Ts_Test_Area_3</th>\n",
       "      <td>2.450582e-02</td>\n",
       "    </tr>\n",
       "    <tr>\n",
       "      <th>Scope_DE</th>\n",
       "      <td>2.178942e-02</td>\n",
       "    </tr>\n",
       "    <tr>\n",
       "      <th>Scope_NL</th>\n",
       "      <td>1.986713e-02</td>\n",
       "    </tr>\n",
       "    <tr>\n",
       "      <th>Ts_Coverage_4</th>\n",
       "      <td>1.872033e-02</td>\n",
       "    </tr>\n",
       "    <tr>\n",
       "      <th>Defect_ID</th>\n",
       "      <td>1.323756e-02</td>\n",
       "    </tr>\n",
       "    <tr>\n",
       "      <th>total_defect_count</th>\n",
       "      <td>1.148936e-02</td>\n",
       "    </tr>\n",
       "    <tr>\n",
       "      <th>open_defect_count</th>\n",
       "      <td>1.079118e-02</td>\n",
       "    </tr>\n",
       "    <tr>\n",
       "      <th>Ts_Test_Area_1</th>\n",
       "      <td>9.001044e-03</td>\n",
       "    </tr>\n",
       "    <tr>\n",
       "      <th>Rn_Status</th>\n",
       "      <td>7.822734e-03</td>\n",
       "    </tr>\n",
       "    <tr>\n",
       "      <th>Cy_Terminal_Name_2</th>\n",
       "      <td>5.294080e-03</td>\n",
       "    </tr>\n",
       "    <tr>\n",
       "      <th>Cy_Terminal_Name_4</th>\n",
       "      <td>4.068527e-03</td>\n",
       "    </tr>\n",
       "    <tr>\n",
       "      <th>Severity</th>\n",
       "      <td>3.472700e-03</td>\n",
       "    </tr>\n",
       "    <tr>\n",
       "      <th>Status</th>\n",
       "      <td>3.228139e-03</td>\n",
       "    </tr>\n",
       "    <tr>\n",
       "      <th>Cy_Terminal_Name_3</th>\n",
       "      <td>3.193778e-03</td>\n",
       "    </tr>\n",
       "    <tr>\n",
       "      <th>Ts_Coverage_2</th>\n",
       "      <td>2.970080e-03</td>\n",
       "    </tr>\n",
       "    <tr>\n",
       "      <th>Cy_Terminal_Name_1</th>\n",
       "      <td>2.635746e-03</td>\n",
       "    </tr>\n",
       "    <tr>\n",
       "      <th>area_from_RN_0</th>\n",
       "      <td>1.041813e-03</td>\n",
       "    </tr>\n",
       "    <tr>\n",
       "      <th>area_from_RN_1</th>\n",
       "      <td>5.257151e-04</td>\n",
       "    </tr>\n",
       "    <tr>\n",
       "      <th>defect_from_RN_1</th>\n",
       "      <td>1.310669e-04</td>\n",
       "    </tr>\n",
       "    <tr>\n",
       "      <th>defect_from_RN_2</th>\n",
       "      <td>1.162865e-04</td>\n",
       "    </tr>\n",
       "    <tr>\n",
       "      <th>Ts_Coverage_1</th>\n",
       "      <td>1.441876e-05</td>\n",
       "    </tr>\n",
       "    <tr>\n",
       "      <th>input_release_1</th>\n",
       "      <td>1.143841e-08</td>\n",
       "    </tr>\n",
       "    <tr>\n",
       "      <th>Cy_Terminal_Name_0</th>\n",
       "      <td>0.000000e+00</td>\n",
       "    </tr>\n",
       "    <tr>\n",
       "      <th>defect_from_RN_0</th>\n",
       "      <td>0.000000e+00</td>\n",
       "    </tr>\n",
       "    <tr>\n",
       "      <th>input_terminal_1</th>\n",
       "      <td>0.000000e+00</td>\n",
       "    </tr>\n",
       "    <tr>\n",
       "      <th>input_terminal_0</th>\n",
       "      <td>0.000000e+00</td>\n",
       "    </tr>\n",
       "    <tr>\n",
       "      <th>Ts_Coverage_0</th>\n",
       "      <td>0.000000e+00</td>\n",
       "    </tr>\n",
       "    <tr>\n",
       "      <th>Ts_Test_Area_0</th>\n",
       "      <td>0.000000e+00</td>\n",
       "    </tr>\n",
       "    <tr>\n",
       "      <th>Cy_Terminal_Release_0</th>\n",
       "      <td>0.000000e+00</td>\n",
       "    </tr>\n",
       "    <tr>\n",
       "      <th>input_release_0</th>\n",
       "      <td>0.000000e+00</td>\n",
       "    </tr>\n",
       "  </tbody>\n",
       "</table>\n",
       "</div>"
      ],
      "text/plain": [
       "                         importance\n",
       "Ts_Test_Area_4         1.847500e-01\n",
       "Ts_Test_Area_6         8.706320e-02\n",
       "soft_ver_count         7.706388e-02\n",
       "Scope_HU               5.352556e-02\n",
       "Scope_CZ               4.869174e-02\n",
       "Scope_IE               4.699882e-02\n",
       "Ts_Coverage_6          4.107215e-02\n",
       "Ts_Test_Area_5         3.880158e-02\n",
       "Ts_Coverage_7          3.767832e-02\n",
       "Ts_Suggested_Severity  3.728809e-02\n",
       "Ts_Coverage_3          3.678674e-02\n",
       "Scope_CTC              3.179649e-02\n",
       "Scope_UK               3.177801e-02\n",
       "Ts_Coverage_5          3.072972e-02\n",
       "fail_ratio             2.632049e-02\n",
       "Ts_Test_Area_2         2.573829e-02\n",
       "Ts_Test_Area_3         2.450582e-02\n",
       "Scope_DE               2.178942e-02\n",
       "Scope_NL               1.986713e-02\n",
       "Ts_Coverage_4          1.872033e-02\n",
       "Defect_ID              1.323756e-02\n",
       "total_defect_count     1.148936e-02\n",
       "open_defect_count      1.079118e-02\n",
       "Ts_Test_Area_1         9.001044e-03\n",
       "Rn_Status              7.822734e-03\n",
       "Cy_Terminal_Name_2     5.294080e-03\n",
       "Cy_Terminal_Name_4     4.068527e-03\n",
       "Severity               3.472700e-03\n",
       "Status                 3.228139e-03\n",
       "Cy_Terminal_Name_3     3.193778e-03\n",
       "Ts_Coverage_2          2.970080e-03\n",
       "Cy_Terminal_Name_1     2.635746e-03\n",
       "area_from_RN_0         1.041813e-03\n",
       "area_from_RN_1         5.257151e-04\n",
       "defect_from_RN_1       1.310669e-04\n",
       "defect_from_RN_2       1.162865e-04\n",
       "Ts_Coverage_1          1.441876e-05\n",
       "input_release_1        1.143841e-08\n",
       "Cy_Terminal_Name_0     0.000000e+00\n",
       "defect_from_RN_0       0.000000e+00\n",
       "input_terminal_1       0.000000e+00\n",
       "input_terminal_0       0.000000e+00\n",
       "Ts_Coverage_0          0.000000e+00\n",
       "Ts_Test_Area_0         0.000000e+00\n",
       "Cy_Terminal_Release_0  0.000000e+00\n",
       "input_release_0        0.000000e+00"
      ]
     },
     "execution_count": 153,
     "metadata": {},
     "output_type": "execute_result"
    }
   ],
   "source": [
    "feature_importances = pd.DataFrame(randforest.feature_importances_,\n",
    "                                   index = X_test.columns,\n",
    "                                    columns=['importance']).sort_values('importance',ascending=False)\n",
    "feature_importances"
   ]
  },
  {
   "cell_type": "markdown",
   "metadata": {},
   "source": [
    "# Optimization"
   ]
  },
  {
   "cell_type": "code",
   "execution_count": 154,
   "metadata": {},
   "outputs": [],
   "source": [
    "def join_rows(df) :\n",
    "    new_df = pd.DataFrame(index=range(1),columns = df.columns)\n",
    "    for i in range(df.shape[1]) :                       \n",
    "        temp = set()\n",
    "        for j in range(df.shape[0]) :\n",
    "            if j == 0:\n",
    "                new_df.iloc[j,i] = df.iloc[j,i]\n",
    "            else :\n",
    "                if df.iloc[j,i] != new_df.iloc[0,i] :\n",
    "                    temp.add(str(df.iloc[j,i]))\n",
    "        if (len(temp) > 0) :\n",
    "            temp.add(str(new_df.iloc[0,i]))\n",
    "            if 'nan' in temp :\n",
    "                temp.remove('nan')\n",
    "            new_df.iloc[0,i] = ', '.join(temp)\n",
    "    return new_df"
   ]
  },
  {
   "cell_type": "code",
   "execution_count": 166,
   "metadata": {},
   "outputs": [],
   "source": [
    "test = pd.read_excel('master2_old_RE_above.xlsx')\n",
    "test['is_predicted'] = y_pred\n",
    "#test['Reason to select'] = ''\n",
    "test.loc[test['is_predicted']==1,'Reason to select'] = 'model prediction'\n",
    "test.loc[test['is_predicted']==0,'Reason to select'] = 'NA'"
   ]
  },
  {
   "cell_type": "code",
   "execution_count": 167,
   "metadata": {},
   "outputs": [
    {
     "data": {
      "text/plain": [
       "(8348, 40)"
      ]
     },
     "execution_count": 167,
     "metadata": {},
     "output_type": "execute_result"
    }
   ],
   "source": [
    "frame =  test[test['is_predicted']==1]\n",
    "frame.shape\n",
    "# (234, 40)"
   ]
  },
  {
   "cell_type": "code",
   "execution_count": 168,
   "metadata": {},
   "outputs": [],
   "source": [
    "group = frame.groupby(['Ts_Name'])\n",
    "final = pd.DataFrame()\n",
    "final = final.append(group.apply(join_rows))\n",
    "\n",
    "#final.to_excel('test_with_predictions.xlsx',index=False)"
   ]
  },
  {
   "cell_type": "code",
   "execution_count": 169,
   "metadata": {},
   "outputs": [
    {
     "data": {
      "text/plain": [
       "(140, 40)"
      ]
     },
     "execution_count": 169,
     "metadata": {},
     "output_type": "execute_result"
    }
   ],
   "source": [
    "final.shape\n",
    "# (224, 40)"
   ]
  },
  {
   "cell_type": "code",
   "execution_count": 170,
   "metadata": {},
   "outputs": [],
   "source": [
    "rule = pd.read_excel('FinalTestSuite_nonOptimized_MR.xlsx')  #142  224\n",
    "rule['is_predicted'] = 1\n",
    "rule['is_selected'] = 1"
   ]
  },
  {
   "cell_type": "code",
   "execution_count": 171,
   "metadata": {},
   "outputs": [
    {
     "data": {
      "text/plain": [
       "(8702, 43)"
      ]
     },
     "execution_count": 171,
     "metadata": {},
     "output_type": "execute_result"
    }
   ],
   "source": [
    "#test1 = pd.merge(test,rule,how='outer',on=['Ts_Name'])\n",
    "\n",
    "test2 = frame.append(rule)\n",
    "test2.shape\n",
    "#test2.to_excel('test_rules_without_join_rows.xlsx',index=False)\n",
    "# (375, 44)"
   ]
  },
  {
   "cell_type": "code",
   "execution_count": 172,
   "metadata": {},
   "outputs": [
    {
     "data": {
      "text/plain": [
       "(362, 43)"
      ]
     },
     "execution_count": 172,
     "metadata": {},
     "output_type": "execute_result"
    }
   ],
   "source": [
    "group = test2.groupby(['Ts_Name'])\n",
    "final = pd.DataFrame()\n",
    "final = final.append(group.apply(join_rows))\n",
    "final.shape\n",
    "\n",
    "# (305, 44)"
   ]
  },
  {
   "cell_type": "code",
   "execution_count": 173,
   "metadata": {},
   "outputs": [
    {
     "data": {
      "text/plain": [
       "dtype('float64')"
      ]
     },
     "execution_count": 173,
     "metadata": {},
     "output_type": "execute_result"
    }
   ],
   "source": [
    "final['fail_ratio'].fillna(0,inplace=True)\n",
    "final['fail_ratio'].replace({'':0},inplace=True)\n",
    "final['fail_ratio'] = final['fail_ratio'].astype(float)\n",
    "final['fail_ratio'].dtypes"
   ]
  },
  {
   "cell_type": "code",
   "execution_count": 174,
   "metadata": {},
   "outputs": [],
   "source": [
    "final.to_excel('test_rules_join_rows.xlsx',index=False)"
   ]
  },
  {
   "cell_type": "markdown",
   "metadata": {},
   "source": [
    "## Criteria One for optimazation ( release note specific )"
   ]
  },
  {
   "cell_type": "code",
   "execution_count": 175,
   "metadata": {},
   "outputs": [
    {
     "data": {
      "text/plain": [
       "(362, 43)"
      ]
     },
     "execution_count": 175,
     "metadata": {},
     "output_type": "execute_result"
    },
    {
     "data": {
      "text/plain": [
       "(81, 43)"
      ]
     },
     "execution_count": 175,
     "metadata": {},
     "output_type": "execute_result"
    }
   ],
   "source": [
    "#final = pd.read_excel('test_rules_join_rows.xlsx')\n",
    "final_optimization_1 = final[((final['Rn_Status'] != 'Passed') & (final['Reason to select'].str.contains('Change in version/status of test area')))  |\n",
    "             (final['Reason to select'].str.contains('linked TC for defect id:'))]\n",
    "#final.to_excel('df.xlsx',index=False)\n",
    "final.shape\n",
    "final_optimization_1.shape\n",
    "# (12, 44)"
   ]
  },
  {
   "cell_type": "markdown",
   "metadata": {},
   "source": [
    "## Criteria Two for optimazation "
   ]
  },
  {
   "cell_type": "code",
   "execution_count": 177,
   "metadata": {
    "scrolled": true
   },
   "outputs": [
    {
     "data": {
      "text/plain": [
       "(362, 43)"
      ]
     },
     "execution_count": 177,
     "metadata": {},
     "output_type": "execute_result"
    },
    {
     "data": {
      "text/plain": [
       "(161, 43)"
      ]
     },
     "execution_count": 177,
     "metadata": {},
     "output_type": "execute_result"
    }
   ],
   "source": [
    "final.shape\n",
    "final_optimization_2 = final[(((final['Cy_Terminal_Name'].str.contains('Hima')) ) & (final['input_terminal'] == 'Hima') \n",
    "               & (final['Ts_Suggested_Severity'] == '1a - Fatal') &\n",
    "                (final['Reason to select'].str.contains('Change in version/status of test area')))  |\n",
    "                \n",
    "              (((final['Ts_Suggested_Severity'] == '1a - Fatal') ) & \n",
    "               (final['Reason to select'].str.contains('model prediction'))) |\n",
    "              (final['Reason to select'].str.contains('linked TC for defect id:')) | \n",
    "               ( final['Rn_Status'].str.contains('Failed')) ]\n",
    "final_optimization_2.shape\n",
    "#Cy_Terminal_Name Reason to select  input_terminal"
   ]
  }
 ],
 "metadata": {
  "kernelspec": {
   "display_name": "Python 3",
   "language": "python",
   "name": "python3"
  },
  "language_info": {
   "codemirror_mode": {
    "name": "ipython",
    "version": 3
   },
   "file_extension": ".py",
   "mimetype": "text/x-python",
   "name": "python",
   "nbconvert_exporter": "python",
   "pygments_lexer": "ipython3",
   "version": "3.6.5"
  }
 },
 "nbformat": 4,
 "nbformat_minor": 2
}
